{
 "cells": [
  {
   "cell_type": "markdown",
   "id": "eba70e01",
   "metadata": {},
   "source": [
    "Отчёт по заданию 2.2: Julia Прогнозирование цен на жильё (Boston Housing)"
   ]
  },
  {
   "cell_type": "markdown",
   "id": "28999542",
   "metadata": {},
   "source": [
    "1. Настройка среды\n",
    "\n",
    "Установка Julia 1.11.7\n",
    "from https://julialang.org\n",
    "\n",
    "\n",
    "Для работы с проектом использовались следующие инструменты:\n",
    "using RDatasets     \n",
    "using DataFrames     \n",
    "using GLM            \n",
    "using Statistics     \n",
    "using Random        \n",
    "\n"
   ]
  },
  {
   "cell_type": "markdown",
   "id": "45b9c84c",
   "metadata": {},
   "source": [
    "2. Загрузка данных\n",
    "\n",
    "boston = dataset(\"MASS\", \"Boston\")\n",
    "println(\"Имена колонок в датасете:\")\n",
    "println(names(boston))"
   ]
  },
  {
   "cell_type": "markdown",
   "id": "19f82113",
   "metadata": {},
   "source": [
    "3. Разделение данных на обучающую и тестовую выборки\n",
    "\n",
    "70% — обучающая  (train)\n",
    "\n",
    "30% — тестовая  (test)\n",
    "\n",
    "Random.seed!(12345) \n",
    "n = nrow(boston)\n",
    "train_size = Int(round(0.7 * n))\n",
    "indices = shuffle(1:n)\n",
    "\n",
    "train_idx = indices[1:train_size]\n",
    "test_idx  = indices[train_size+1:end]\n",
    "\n",
    "train_data = boston[train_idx, :]\n",
    "test_data  = boston[test_idx, :]"
   ]
  },
  {
   "cell_type": "markdown",
   "id": "23d33b8d",
   "metadata": {},
   "source": [
    "4. Построение модели линейной регрессии\n",
    "model = lm(@formula(MedV ~ Crim + Zn + Indus + Chas + NOx + Rm + Age + Dis + Rad + Tax + PTRatio + Black + LStat), train_data)\n"
   ]
  },
  {
   "cell_type": "markdown",
   "id": "b906a25e",
   "metadata": {},
   "source": [
    "5. Коэффициенты модели\n",
    "\n",
    "println(\"\\nКоэффициенты модели:\")\n",
    "for (name, coef_val) in zip(coefnames(model), coef(model))\n",
    "    println(rpad(name, 10), \" => \", round(coef_val, digits=4))\n",
    "end\n",
    "\n",
    "Интерпретация:\n",
    "\n",
    "Положительный коэффициент → увеличение признака повышает цену\n",
    "\n",
    "Отрицательный коэффициент → увеличение признака снижает цену\n",
    "Пример: Rm = 4.3 → каждая дополнительная комната увеличивает цену на +- $4.300, если все остальные признаки фиксированы"
   ]
  },
  {
   "cell_type": "code",
   "execution_count": 2,
   "id": "846ce1c7",
   "metadata": {},
   "outputs": [
    {
     "name": "stdout",
     "output_type": "stream",
     "text": [
      "Имена колонок в датасете:\n",
      "[\"Crim\", \"Zn\", \"Indus\", \"Chas\", \"NOx\", \"Rm\", \"Age\", \"Dis\", \"Rad\", \"Tax\", \"PTRatio\", \"Black\", \"LStat\", \"MedV\"]\n",
      "\n",
      "Коэффициенты модели:\n",
      "(Intercept) => 31.1912\n",
      "Crim       => -0.1325\n",
      "Zn         => 0.0444\n",
      "Indus      => 0.0035\n",
      "Chas       => 2.3985\n",
      "NOx        => -15.2767\n",
      "Rm         => 4.2987\n",
      "Age        => -0.0119\n",
      "Dis        => -1.5011\n",
      "Rad        => 0.3007\n",
      "Tax        => -0.0121\n",
      "PTRatio    => -0.9345\n",
      "Black      => 0.0123\n",
      "LStat      => -0.4738\n",
      "\n",
      "MSE (на тестовой выборке): 28.1798\n",
      "R² (на тестовой выборке): 0.6399\n"
     ]
    }
   ],
   "source": [
    "\n",
    "using RDatasets\n",
    "using DataFrames\n",
    "using GLM\n",
    "using Statistics\n",
    "using Random\n",
    "\n",
    "\n",
    "\n",
    "boston = dataset(\"MASS\", \"Boston\")\n",
    "\n",
    "println(\"Имена колонок в датасете:\")\n",
    "println(names(boston))\n",
    "\n",
    "Random.seed!(12345) \n",
    "n = nrow(boston)\n",
    "train_size = Int(round(0.7 * n))\n",
    "indices = shuffle(1:n)\n",
    "\n",
    "train_idx = indices[1:train_size]\n",
    "test_idx  = indices[train_size+1:end]\n",
    "\n",
    "train_data = boston[train_idx, :]\n",
    "test_data  = boston[test_idx, :]\n",
    "\n",
    "\n",
    "model = lm(@formula(MedV ~ Crim + Zn + Indus + Chas + NOx + Rm + Age + Dis + Rad + Tax + PTRatio + Black + LStat), train_data)\n",
    "\n",
    "println(\"\\nКоэффициенты модели:\")\n",
    "for (name, coef_val) in zip(coefnames(model), coef(model))\n",
    "    println(rpad(name, 10), \" => \", round(coef_val, digits=4))\n",
    "end\n",
    "\n",
    "\n",
    "y_test = test_data.MedV\n",
    "y_pred = predict(model, test_data)\n",
    "\n",
    "mse = mean((y_test .- y_pred).^2)\n",
    "ss_total = sum((y_test .- mean(y_test)).^2)\n",
    "ss_res = sum((y_test .- y_pred).^2)\n",
    "r2_score = 1 - ss_res / ss_total\n",
    "\n",
    "println(\"\\nMSE (на тестовой выборке): \", round(mse, digits=4))\n",
    "println(\"R² (на тестовой выборке): \", round(r2_score, digits=4))\n"
   ]
  },
  {
   "cell_type": "markdown",
   "id": "5455eb13",
   "metadata": {},
   "source": [
    "7. Выводы\n",
    "\n",
    "Модель линейной регрессии успешно предсказывает цену жилья на основе характеристик районов.\n",
    "\n",
    "Наиболее сильное влияние на цену имеют:\n",
    "Rm\n",
    "LStat \n",
    "NOx \n",
    "Разделение данных на train/test позволяет проверить устойчивость модели к новым данным\n",
    "\n",
    "Метрики (MSE, R^2) показывают, что модель достаточно точна, но есть место для улучшений (например, использование регуляризации или более сложных моделей)"
   ]
  }
 ],
 "metadata": {
  "kernelspec": {
   "display_name": "Julia 1.11.7",
   "language": "julia",
   "name": "julia-1.11"
  },
  "language_info": {
   "file_extension": ".jl",
   "mimetype": "application/julia",
   "name": "julia",
   "version": "1.11.7"
  }
 },
 "nbformat": 4,
 "nbformat_minor": 5
}
